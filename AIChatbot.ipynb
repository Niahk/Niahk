{
  "nbformat": 4,
  "nbformat_minor": 0,
  "metadata": {
    "colab": {
      "provenance": [],
      "authorship_tag": "ABX9TyNh97F948rB0Xt386m9wrbm",
      "include_colab_link": true
    },
    "kernelspec": {
      "name": "python3",
      "display_name": "Python 3"
    },
    "language_info": {
      "name": "python"
    }
  },
  "cells": [
    {
      "cell_type": "markdown",
      "metadata": {
        "id": "view-in-github",
        "colab_type": "text"
      },
      "source": [
        "<a href=\"https://colab.research.google.com/github/Niahk/Niahk/blob/main/AIChatbot.ipynb\" target=\"_parent\"><img src=\"https://colab.research.google.com/assets/colab-badge.svg\" alt=\"Open In Colab\"/></a>"
      ]
    },
    {
      "cell_type": "code",
      "execution_count": null,
      "metadata": {
        "id": "eOmTpqFzHcM3"
      },
      "outputs": [],
      "source": []
    },
    {
      "cell_type": "code",
      "source": [
        "pip install nltk"
      ],
      "metadata": {
        "colab": {
          "base_uri": "https://localhost:8080/"
        },
        "id": "LFK4jhCirfSk",
        "outputId": "6561d572-1591-4c05-857c-2112b9a73452"
      },
      "execution_count": 1,
      "outputs": [
        {
          "output_type": "stream",
          "name": "stdout",
          "text": [
            "Looking in indexes: https://pypi.org/simple, https://us-python.pkg.dev/colab-wheels/public/simple/\n",
            "Requirement already satisfied: nltk in /usr/local/lib/python3.7/dist-packages (3.7)\n",
            "Requirement already satisfied: click in /usr/local/lib/python3.7/dist-packages (from nltk) (7.1.2)\n",
            "Requirement already satisfied: tqdm in /usr/local/lib/python3.7/dist-packages (from nltk) (4.64.0)\n",
            "Requirement already satisfied: regex>=2021.8.3 in /usr/local/lib/python3.7/dist-packages (from nltk) (2022.6.2)\n",
            "Requirement already satisfied: joblib in /usr/local/lib/python3.7/dist-packages (from nltk) (1.1.0)\n"
          ]
        }
      ]
    },
    {
      "cell_type": "code",
      "source": [
        "pip install newspaper3k"
      ],
      "metadata": {
        "colab": {
          "base_uri": "https://localhost:8080/"
        },
        "id": "bVUA2awjrr-Z",
        "outputId": "527c21a2-b6d4-4266-829e-726417258015"
      },
      "execution_count": 2,
      "outputs": [
        {
          "output_type": "stream",
          "name": "stdout",
          "text": [
            "Looking in indexes: https://pypi.org/simple, https://us-python.pkg.dev/colab-wheels/public/simple/\n",
            "Collecting newspaper3k\n",
            "  Downloading newspaper3k-0.2.8-py3-none-any.whl (211 kB)\n",
            "\u001b[K     |████████████████████████████████| 211 kB 5.4 MB/s \n",
            "\u001b[?25hRequirement already satisfied: PyYAML>=3.11 in /usr/local/lib/python3.7/dist-packages (from newspaper3k) (6.0)\n",
            "Requirement already satisfied: Pillow>=3.3.0 in /usr/local/lib/python3.7/dist-packages (from newspaper3k) (7.1.2)\n",
            "Requirement already satisfied: requests>=2.10.0 in /usr/local/lib/python3.7/dist-packages (from newspaper3k) (2.23.0)\n",
            "Requirement already satisfied: python-dateutil>=2.5.3 in /usr/local/lib/python3.7/dist-packages (from newspaper3k) (2.8.2)\n",
            "Collecting tldextract>=2.0.1\n",
            "  Downloading tldextract-3.3.1-py3-none-any.whl (93 kB)\n",
            "\u001b[K     |████████████████████████████████| 93 kB 2.4 MB/s \n",
            "\u001b[?25hCollecting cssselect>=0.9.2\n",
            "  Downloading cssselect-1.1.0-py2.py3-none-any.whl (16 kB)\n",
            "Collecting tinysegmenter==0.3\n",
            "  Downloading tinysegmenter-0.3.tar.gz (16 kB)\n",
            "Requirement already satisfied: beautifulsoup4>=4.4.1 in /usr/local/lib/python3.7/dist-packages (from newspaper3k) (4.6.3)\n",
            "Requirement already satisfied: nltk>=3.2.1 in /usr/local/lib/python3.7/dist-packages (from newspaper3k) (3.7)\n",
            "Collecting feedparser>=5.2.1\n",
            "  Downloading feedparser-6.0.10-py3-none-any.whl (81 kB)\n",
            "\u001b[K     |████████████████████████████████| 81 kB 9.8 MB/s \n",
            "\u001b[?25hCollecting jieba3k>=0.35.1\n",
            "  Downloading jieba3k-0.35.1.zip (7.4 MB)\n",
            "\u001b[K     |████████████████████████████████| 7.4 MB 5.9 MB/s \n",
            "\u001b[?25hCollecting feedfinder2>=0.0.4\n",
            "  Downloading feedfinder2-0.0.4.tar.gz (3.3 kB)\n",
            "Requirement already satisfied: lxml>=3.6.0 in /usr/local/lib/python3.7/dist-packages (from newspaper3k) (4.9.1)\n",
            "Requirement already satisfied: six in /usr/local/lib/python3.7/dist-packages (from feedfinder2>=0.0.4->newspaper3k) (1.15.0)\n",
            "Collecting sgmllib3k\n",
            "  Downloading sgmllib3k-1.0.0.tar.gz (5.8 kB)\n",
            "Requirement already satisfied: click in /usr/local/lib/python3.7/dist-packages (from nltk>=3.2.1->newspaper3k) (7.1.2)\n",
            "Requirement already satisfied: regex>=2021.8.3 in /usr/local/lib/python3.7/dist-packages (from nltk>=3.2.1->newspaper3k) (2022.6.2)\n",
            "Requirement already satisfied: joblib in /usr/local/lib/python3.7/dist-packages (from nltk>=3.2.1->newspaper3k) (1.1.0)\n",
            "Requirement already satisfied: tqdm in /usr/local/lib/python3.7/dist-packages (from nltk>=3.2.1->newspaper3k) (4.64.0)\n",
            "Requirement already satisfied: urllib3!=1.25.0,!=1.25.1,<1.26,>=1.21.1 in /usr/local/lib/python3.7/dist-packages (from requests>=2.10.0->newspaper3k) (1.24.3)\n",
            "Requirement already satisfied: idna<3,>=2.5 in /usr/local/lib/python3.7/dist-packages (from requests>=2.10.0->newspaper3k) (2.10)\n",
            "Requirement already satisfied: chardet<4,>=3.0.2 in /usr/local/lib/python3.7/dist-packages (from requests>=2.10.0->newspaper3k) (3.0.4)\n",
            "Requirement already satisfied: certifi>=2017.4.17 in /usr/local/lib/python3.7/dist-packages (from requests>=2.10.0->newspaper3k) (2022.6.15)\n",
            "Collecting requests-file>=1.4\n",
            "  Downloading requests_file-1.5.1-py2.py3-none-any.whl (3.7 kB)\n",
            "Requirement already satisfied: filelock>=3.0.8 in /usr/local/lib/python3.7/dist-packages (from tldextract>=2.0.1->newspaper3k) (3.8.0)\n",
            "Building wheels for collected packages: tinysegmenter, feedfinder2, jieba3k, sgmllib3k\n",
            "  Building wheel for tinysegmenter (setup.py) ... \u001b[?25l\u001b[?25hdone\n",
            "  Created wheel for tinysegmenter: filename=tinysegmenter-0.3-py3-none-any.whl size=13553 sha256=ffad2c27f9e79c42d40e89266673c03484aaee6fec09149f42cbbbda189f012f\n",
            "  Stored in directory: /root/.cache/pip/wheels/df/67/41/faca10fa501ca010be41b49d40360c2959e1c4f09bcbfa37fa\n",
            "  Building wheel for feedfinder2 (setup.py) ... \u001b[?25l\u001b[?25hdone\n",
            "  Created wheel for feedfinder2: filename=feedfinder2-0.0.4-py3-none-any.whl size=3357 sha256=290081df40ac4751860a29844dddf16974519d2940d7bab25e1a15d9742bcfeb\n",
            "  Stored in directory: /root/.cache/pip/wheels/7f/d4/8f/6e2ca54744c9d7292d88ddb8d42876bcdab5e6d84a21c10346\n",
            "  Building wheel for jieba3k (setup.py) ... \u001b[?25l\u001b[?25hdone\n",
            "  Created wheel for jieba3k: filename=jieba3k-0.35.1-py3-none-any.whl size=7398404 sha256=21aa14d91023c68322881778c285885f3f0895dd0d753e0234417648a44f61f1\n",
            "  Stored in directory: /root/.cache/pip/wheels/4c/91/46/3c208287b726df325a5979574324878b679116e4baae1af3c3\n",
            "  Building wheel for sgmllib3k (setup.py) ... \u001b[?25l\u001b[?25hdone\n",
            "  Created wheel for sgmllib3k: filename=sgmllib3k-1.0.0-py3-none-any.whl size=6066 sha256=e4580d9c0881051ad399058638881b78d70b6c21023d20c4158f62d4128593e5\n",
            "  Stored in directory: /root/.cache/pip/wheels/73/ad/a4/0dff4a6ef231fc0dfa12ffbac2a36cebfdddfe059f50e019aa\n",
            "Successfully built tinysegmenter feedfinder2 jieba3k sgmllib3k\n",
            "Installing collected packages: sgmllib3k, requests-file, tldextract, tinysegmenter, jieba3k, feedparser, feedfinder2, cssselect, newspaper3k\n",
            "Successfully installed cssselect-1.1.0 feedfinder2-0.0.4 feedparser-6.0.10 jieba3k-0.35.1 newspaper3k-0.2.8 requests-file-1.5.1 sgmllib3k-1.0.0 tinysegmenter-0.3 tldextract-3.3.1\n"
          ]
        }
      ]
    },
    {
      "cell_type": "code",
      "source": [
        "#import libraries\n",
        "from newspaper import Article\n",
        "import random\n",
        "import string\n",
        "from sklearn.feature_extraction.text import CountVectorizer\n",
        "from sklearn.metrics.pairwise import cosine_similarity\n",
        "import numpy as np\n",
        "import warnings\n",
        "warnings.filterwarnings('ignore')"
      ],
      "metadata": {
        "id": "F5ewi633r2cJ"
      },
      "execution_count": 3,
      "outputs": []
    },
    {
      "cell_type": "code",
      "source": [
        "import nltk"
      ],
      "metadata": {
        "id": "lEih8Nr1siS8"
      },
      "execution_count": 5,
      "outputs": []
    },
    {
      "cell_type": "code",
      "source": [
        "#creating cell for download the punkt package\n",
        "nltk.download('punkt',quiet=True)"
      ],
      "metadata": {
        "colab": {
          "base_uri": "https://localhost:8080/"
        },
        "id": "NPuBzQP0ybkf",
        "outputId": "7e2bfce8-6bf1-43f2-e440-66b1df96020b"
      },
      "execution_count": 6,
      "outputs": [
        {
          "output_type": "execute_result",
          "data": {
            "text/plain": [
              "True"
            ]
          },
          "metadata": {},
          "execution_count": 6
        }
      ]
    },
    {
      "cell_type": "code",
      "source": [
        "#get the article\n",
        "article = Article('https://www.medicalnewstoday.com/articles/emotional-distress')\n",
        "article.download()\n",
        "article.parse()\n",
        "article.nlp()\n",
        "corpus = article.text"
      ],
      "metadata": {
        "id": "xvGeOFtnydrf"
      },
      "execution_count": 7,
      "outputs": []
    },
    {
      "cell_type": "code",
      "source": [
        "#print the article text\n",
        "print(corpus)"
      ],
      "metadata": {
        "colab": {
          "base_uri": "https://localhost:8080/"
        },
        "id": "YKBU81ffzowm",
        "outputId": "7d542281-f26b-4664-f50a-072927884c5f"
      },
      "execution_count": 8,
      "outputs": [
        {
          "output_type": "stream",
          "name": "stdout",
          "text": [
            "Emotional distress is a state of mental anguish that can take a wide variety of forms. It may result from a mental health issue or particular circumstances, such as relationship difficulties or financial strain. Emotional distress is a broad term that can refer to a wide range of symptoms from a variety of mental health disorders.\n",
            "\n",
            "\n",
            "\n",
            "However, anyone can experience emotional distress, even if they do not meet the criteria for any psychological disorder. Here, learn what emotional distress is, what can cause it, and what to do next.\n",
            "\n",
            "Symptoms of emotional distress Share on Pinterest Justin Paget/Getty Images Emotional distress is a state of emotional suffering . The term encompasses a wide range of symptoms, but its hallmarks are the symptoms of depression and anxiety. People can experience it at any time, and it is usually temporary. Mental health disorders can cause symptoms of emotional distress that persist for long periods or occur in cycles.\n",
            "\n",
            "\n",
            "\n",
            "The symptoms of emotional distress are sometimes severe and may develop into a mental health disorder. Some symptoms of emotional distress include: feeling overwhelmed, helpless, or hopeless\n",
            "\n",
            "feeling guilty without a clear cause\n",
            "\n",
            "spending a lot of time worrying\n",
            "\n",
            "having difficulty thinking or remembering\n",
            "\n",
            "sleeping too much or too little\n",
            "\n",
            "having changes in appetite\n",
            "\n",
            "relying more heavily on mood-altering substances, such as alcohol\n",
            "\n",
            "isolating from people or activities\n",
            "\n",
            "experiencing unusual anger or irritability\n",
            "\n",
            "experiencing fatigue\n",
            "\n",
            "having difficulty keeping up with daily tasks\n",
            "\n",
            "experiencing new, unexplained pain The characteristics of emotional distress may vary depending on the presence of any underlying mental health disorders. For example, in a person with borderline personality disorder, emotional distress may cause both angry outbursts and intense feelings of loneliness.\n",
            "\n",
            "Causes of emotional distress The causes of emotional distress vary widely, and they usually involve a combination of factors.\n",
            "\n",
            "\n",
            "\n",
            "For some people, distress is due to a traumatic experience or event, such as a death in the family. It can also result from a wide range of underlying mental health conditions. In other cases, certain situations trigger emotional distress. We give examples of these situations below: Emotional distress at work The workplace can be a stressful environment, and while some stress may be motivating, too much is often overwhelming. Some causes of emotional distress related to work may include: concerns about job security\n",
            "\n",
            "concerns about performance\n",
            "\n",
            "long hours\n",
            "\n",
            "low pay\n",
            "\n",
            "poor working conditions\n",
            "\n",
            "increasing responsibility\n",
            "\n",
            "a lack of control over work\n",
            "\n",
            "relationships with colleagues or managers Sometimes, circumstances build and combine in unexpected ways to cause distress. A person can experience this in any workplace and at all levels of an organization. Long working hours may be a particularly potent cause of emotional distress. For example, an older study from 2011 found that people working more than 55 hours a week were more likely to experience depression and anxiety in the future than those working 35–40 hours per week. Emotional distress at home Among the many possible causes of emotional distress at home are personal or environmental factors, such as: experiencing relationship problems with partners, other family members, or friends\n",
            "\n",
            "undergoing major life changes, such as moving home or having a child\n",
            "\n",
            "living in a neighborhood that faces inequity and a deprivation of resources\n",
            "\n",
            "having a low income\n",
            "\n",
            "experiencing discrimination\n",
            "\n",
            "feeling lonely or isolated\n",
            "\n",
            "having debt\n",
            "\n",
            "having an unhealthful lifestyle, which might involve smoking or low levels of exercise\n",
            "\n",
            "Treatment Emotional distress can become overwhelming and affect daily functioning. The treatment usually involves identifying the triggers and practicing techniques to reduce stress. The triggers of emotional distress are not always obvious, and talking to family members, friends, and a therapist or counselor can help people identify them and come up with alternative ways of coping. For example, cognitive behavioral therapy is a standard method of identifying and addressing sources of emotional distress. There are many types of this therapy, and the best type for each person depends on the situation. Stress management strategies, including relaxation techniques, such as box breathing and guided imagery, can also help. Some people use mindfulness meditation as a long-term strategy for dealing with stress. It typically involves focusing inward to heighten attention and self-awareness. Making certain lifestyle changes, such as quitting smoking and becoming more physically active, can also help. A wide range of evidence suggests that regular exercise can help alleviate anxiety and depression. Even light physical activity can be helpful. A 2020 study in the Lancet Psychiatry found that adolescents who engaged in light activity had a lower risk of experiencing depressive symptoms at the age of 18 years. Learn more about different types of therapy here.\n",
            "\n",
            "Diagnosis There is no clinical diagnosis of emotional distress. Anyone can experience it, and it can be a part of a mental health disorder. It can sometimes be hard to distinguish between emotional distress and depression or anxiety. To help a person identify the cause of their symptoms, a doctor may ask them about recent experiences and major life events that may be sources of distress. They may also ask about additional symptoms that could indicate a mental health disorder, such as suicidal thoughts or feelings of hopelessness. Suicide prevention If you know someone at immediate risk of self-harm, suicide, or hurting another person: Ask the tough question: “Are you considering suicide?”\n",
            "\n",
            "Listen to the person without judgment.\n",
            "\n",
            "Call 911 or the local emergency number, or text TALK to 741741 to communicate with a trained crisis counselor.\n",
            "\n",
            "Stay with the person until professional help arrives.\n",
            "\n",
            "Try to remove any weapons, medications, or other potentially harmful objects. If you or someone you know is having thoughts of suicide, a prevention hotline can help. The 988 Suicide and Crisis Lifeline is available 24 hours a day at 988. During a crisis, people who are hard of hearing can use their preferred relay service or dial 711 then 988. Click here for more links and local resources.\n",
            "\n",
            "When to see a doctor Many people experience emotional distress. It may resolve on its own or when a stressful situation concludes. In other cases, the symptoms improve slowly as people adapt or find stress management techniques that work for them. If emotional distress is unmanageable or not improving, it is advisable to contact a doctor or mental health professional. Doing this is particularly important if there are other signs of a mental health disorder, such as depression or anxiety.\n",
            "\n",
            "Prevention It is not always possible to prevent emotional distress. Unpredictable life events and other stressors can potentially become overwhelming for anyone. However, the following strategies can help limit the impact of this distress: being aware of potential triggers at home or work and taking action as soon as possible if they present\n",
            "\n",
            "creating a support network of colleagues, friends, or family members\n",
            "\n",
            "joining a support group whose members have shared experiences\n",
            "\n",
            "staying physically active\n",
            "\n",
            "having a healthful diet\n",
            "\n",
            "taking breaks often, if possible\n",
            "\n",
            "avoiding smoking and the overconsumption of alcohol\n",
            "\n",
            "practicing stress reduction techniques, such as mindfulness meditation Learn more about stress management here.\n"
          ]
        }
      ]
    },
    {
      "cell_type": "code",
      "source": [
        "#Tokenization\n",
        "text = corpus\n",
        "sentence_list = nltk.sent_tokenize(text)"
      ],
      "metadata": {
        "id": "tIEfzQp-zyIX"
      },
      "execution_count": 9,
      "outputs": []
    },
    {
      "cell_type": "code",
      "source": [
        "#print the list of sentence\n",
        "print(sentence_list)"
      ],
      "metadata": {
        "colab": {
          "base_uri": "https://localhost:8080/"
        },
        "id": "7lqPWOXlz97D",
        "outputId": "2dd2bf21-0f22-42ba-d0c4-56571b728438"
      },
      "execution_count": 10,
      "outputs": [
        {
          "output_type": "stream",
          "name": "stdout",
          "text": [
            "['Emotional distress is a state of mental anguish that can take a wide variety of forms.', 'It may result from a mental health issue or particular circumstances, such as relationship difficulties or financial strain.', 'Emotional distress is a broad term that can refer to a wide range of symptoms from a variety of mental health disorders.', 'However, anyone can experience emotional distress, even if they do not meet the criteria for any psychological disorder.', 'Here, learn what emotional distress is, what can cause it, and what to do next.', 'Symptoms of emotional distress Share on Pinterest Justin Paget/Getty Images Emotional distress is a state of emotional suffering .', 'The term encompasses a wide range of symptoms, but its hallmarks are the symptoms of depression and anxiety.', 'People can experience it at any time, and it is usually temporary.', 'Mental health disorders can cause symptoms of emotional distress that persist for long periods or occur in cycles.', 'The symptoms of emotional distress are sometimes severe and may develop into a mental health disorder.', 'Some symptoms of emotional distress include: feeling overwhelmed, helpless, or hopeless\\n\\nfeeling guilty without a clear cause\\n\\nspending a lot of time worrying\\n\\nhaving difficulty thinking or remembering\\n\\nsleeping too much or too little\\n\\nhaving changes in appetite\\n\\nrelying more heavily on mood-altering substances, such as alcohol\\n\\nisolating from people or activities\\n\\nexperiencing unusual anger or irritability\\n\\nexperiencing fatigue\\n\\nhaving difficulty keeping up with daily tasks\\n\\nexperiencing new, unexplained pain The characteristics of emotional distress may vary depending on the presence of any underlying mental health disorders.', 'For example, in a person with borderline personality disorder, emotional distress may cause both angry outbursts and intense feelings of loneliness.', 'Causes of emotional distress The causes of emotional distress vary widely, and they usually involve a combination of factors.', 'For some people, distress is due to a traumatic experience or event, such as a death in the family.', 'It can also result from a wide range of underlying mental health conditions.', 'In other cases, certain situations trigger emotional distress.', 'We give examples of these situations below: Emotional distress at work The workplace can be a stressful environment, and while some stress may be motivating, too much is often overwhelming.', 'Some causes of emotional distress related to work may include: concerns about job security\\n\\nconcerns about performance\\n\\nlong hours\\n\\nlow pay\\n\\npoor working conditions\\n\\nincreasing responsibility\\n\\na lack of control over work\\n\\nrelationships with colleagues or managers Sometimes, circumstances build and combine in unexpected ways to cause distress.', 'A person can experience this in any workplace and at all levels of an organization.', 'Long working hours may be a particularly potent cause of emotional distress.', 'For example, an older study from 2011 found that people working more than 55 hours a week were more likely to experience depression and anxiety in the future than those working 35–40 hours per week.', 'Emotional distress at home Among the many possible causes of emotional distress at home are personal or environmental factors, such as: experiencing relationship problems with partners, other family members, or friends\\n\\nundergoing major life changes, such as moving home or having a child\\n\\nliving in a neighborhood that faces inequity and a deprivation of resources\\n\\nhaving a low income\\n\\nexperiencing discrimination\\n\\nfeeling lonely or isolated\\n\\nhaving debt\\n\\nhaving an unhealthful lifestyle, which might involve smoking or low levels of exercise\\n\\nTreatment Emotional distress can become overwhelming and affect daily functioning.', 'The treatment usually involves identifying the triggers and practicing techniques to reduce stress.', 'The triggers of emotional distress are not always obvious, and talking to family members, friends, and a therapist or counselor can help people identify them and come up with alternative ways of coping.', 'For example, cognitive behavioral therapy is a standard method of identifying and addressing sources of emotional distress.', 'There are many types of this therapy, and the best type for each person depends on the situation.', 'Stress management strategies, including relaxation techniques, such as box breathing and guided imagery, can also help.', 'Some people use mindfulness meditation as a long-term strategy for dealing with stress.', 'It typically involves focusing inward to heighten attention and self-awareness.', 'Making certain lifestyle changes, such as quitting smoking and becoming more physically active, can also help.', 'A wide range of evidence suggests that regular exercise can help alleviate anxiety and depression.', 'Even light physical activity can be helpful.', 'A 2020 study in the Lancet Psychiatry found that adolescents who engaged in light activity had a lower risk of experiencing depressive symptoms at the age of 18 years.', 'Learn more about different types of therapy here.', 'Diagnosis There is no clinical diagnosis of emotional distress.', 'Anyone can experience it, and it can be a part of a mental health disorder.', 'It can sometimes be hard to distinguish between emotional distress and depression or anxiety.', 'To help a person identify the cause of their symptoms, a doctor may ask them about recent experiences and major life events that may be sources of distress.', 'They may also ask about additional symptoms that could indicate a mental health disorder, such as suicidal thoughts or feelings of hopelessness.', 'Suicide prevention If you know someone at immediate risk of self-harm, suicide, or hurting another person: Ask the tough question: “Are you considering suicide?”\\n\\nListen to the person without judgment.', 'Call 911 or the local emergency number, or text TALK to 741741 to communicate with a trained crisis counselor.', 'Stay with the person until professional help arrives.', 'Try to remove any weapons, medications, or other potentially harmful objects.', 'If you or someone you know is having thoughts of suicide, a prevention hotline can help.', 'The 988 Suicide and Crisis Lifeline is available 24 hours a day at 988.', 'During a crisis, people who are hard of hearing can use their preferred relay service or dial 711 then 988.', 'Click here for more links and local resources.', 'When to see a doctor Many people experience emotional distress.', 'It may resolve on its own or when a stressful situation concludes.', 'In other cases, the symptoms improve slowly as people adapt or find stress management techniques that work for them.', 'If emotional distress is unmanageable or not improving, it is advisable to contact a doctor or mental health professional.', 'Doing this is particularly important if there are other signs of a mental health disorder, such as depression or anxiety.', 'Prevention It is not always possible to prevent emotional distress.', 'Unpredictable life events and other stressors can potentially become overwhelming for anyone.', 'However, the following strategies can help limit the impact of this distress: being aware of potential triggers at home or work and taking action as soon as possible if they present\\n\\ncreating a support network of colleagues, friends, or family members\\n\\njoining a support group whose members have shared experiences\\n\\nstaying physically active\\n\\nhaving a healthful diet\\n\\ntaking breaks often, if possible\\n\\navoiding smoking and the overconsumption of alcohol\\n\\npracticing stress reduction techniques, such as mindfulness meditation Learn more about stress management here.']\n"
          ]
        }
      ]
    },
    {
      "cell_type": "code",
      "source": [
        "#A function to return a random greeting respnse to users greeting\n",
        "def greeting_response(text):\n",
        "  text = text.lower()\n",
        "\n",
        "  #Bots greeting response\n",
        "  bot_greetings = ['hey','hi','hello','hola']\n",
        "\n",
        "  #users greeting\n",
        "  user_greeting = ['hi','hey','hola''greetings','wassup']\n",
        "\n",
        "  for word in text.split():\n",
        "    if word in user_greeting:\n",
        "      return random.choice(bot_greetings)"
      ],
      "metadata": {
        "id": "YihlRpU00F3b"
      },
      "execution_count": 22,
      "outputs": []
    },
    {
      "cell_type": "code",
      "source": [
        "def index_sort(list_var):\n",
        "  length = len(list_var)\n",
        "  list_index = list(range(0, length))\n",
        "\n",
        "  x= list_var\n",
        "  for i in range(length):\n",
        "    for j in range(length):\n",
        "      if x[list_index[i]] > x[list_index[j]]:\n",
        "        #swap\n",
        "        temp = list_index[i]\n",
        "        list_index[i] = list_index[j]\n",
        "        list_index[j] = temp\n",
        "\n",
        "  return list_index"
      ],
      "metadata": {
        "id": "SupEKZUt1cML"
      },
      "execution_count": 12,
      "outputs": []
    },
    {
      "cell_type": "code",
      "source": [
        "#create bots response\n",
        "def bot_response(user_input):\n",
        "  user_input = user_input.lower()\n",
        "  sentence_list.append(user_input)\n",
        "  bot_response = ''\n",
        "  cm = CountVectorizer().fit_transform(sentence_list)\n",
        "  similarity_scores = cosine_similarity(cm[-1], cm)\n",
        "  similarity_scores_list = similarity_scores.flatten()\n",
        "  index = index_sort (similarity_scores_list)\n",
        "  index = index[1:]\n",
        "  response_flag = 0\n",
        "\n",
        "  j = 0\n",
        "  for i in range(len(index)):\n",
        "    if similarity_scores_list[index[i]] > 0.0:\n",
        "      bot_response = bot_response+ ' '+sentence_list[index[i]]\n",
        "      response_flag = 1\n",
        "      j = j+1\n",
        "    if j>2:\n",
        "      break\n",
        "\n",
        "  if response_flag == 0:\n",
        "    bot_response = bot_response+ ' '+\"I apologies,I don't understand\"\n",
        "  sentence_list.remove(user_input)\n",
        "  return bot_response"
      ],
      "metadata": {
        "id": "uE1iEY9G0xhO"
      },
      "execution_count": 26,
      "outputs": []
    },
    {
      "cell_type": "code",
      "source": [
        "#start the chat\n",
        "print('DOC Bot: I am consultant doctor bot or a doc bot for short.I will answer your queries about mental distress.If you want to exit,type bye')\n",
        "\n",
        "exit_list = ['exit','see you later','bye','quit','break']\n",
        "while(True):\n",
        "  user_input = input()\n",
        "  if user_input.lower() in exit_list:\n",
        "    print('doc bot:chat with you later!')\n",
        "    break\n",
        "  else:\n",
        "    if greeting_response(user_input) != None:\n",
        "      print('doc bot: '+ greeting_response(user_input))\n",
        "    else:\n",
        "         print('doc bot:'+bot_response(user_input))"
      ],
      "metadata": {
        "colab": {
          "base_uri": "https://localhost:8080/"
        },
        "id": "dTjjLgn74JNk",
        "outputId": "b8719859-0fd6-4ff6-d2bf-2cb9aef77a10"
      },
      "execution_count": 27,
      "outputs": [
        {
          "output_type": "stream",
          "name": "stdout",
          "text": [
            "DOC Bot: I am consultant doctor bot or a doc bot for short.I will answer your queries about mental distress.If you want to exit,type bye\n",
            "hii\n",
            "doc bot: I apologies,I don't understand\n",
            "what is mental distress\n",
            "doc bot: what is mental distress Here, learn what emotional distress is, what can cause it, and what to do next. If emotional distress is unmanageable or not improving, it is advisable to contact a doctor or mental health professional.\n",
            "mental distress\n",
            "doc bot: what is mental distress? The symptoms of emotional distress are sometimes severe and may develop into a mental health disorder. Emotional distress is a state of mental anguish that can take a wide variety of forms.\n",
            "symptoms\n",
            "doc bot: The term encompasses a wide range of symptoms, but its hallmarks are the symptoms of depression and anxiety. The symptoms of emotional distress are sometimes severe and may develop into a mental health disorder. Mental health disorders can cause symptoms of emotional distress that persist for long periods or occur in cycles.\n",
            "xys\n",
            "doc bot: I apologies,I don't understand\n",
            "exit\n",
            "doc bot:chat with you later!\n"
          ]
        }
      ]
    }
  ]
}
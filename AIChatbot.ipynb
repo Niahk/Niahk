{
  "nbformat": 4,
  "nbformat_minor": 0,
  "metadata": {
    "colab": {
      "provenance": [],
      "authorship_tag": "ABX9TyNh97F948rB0Xt386m9wrbm",
      "include_colab_link": true
    },
    "kernelspec": {
      "name": "python3",
      "display_name": "Python 3"
    },
    "language_info": {
      "name": "python"
    }
  },
  "cells": [
    {
      "cell_type": "markdown",
      "metadata": {
        "id": "view-in-github",
        "colab_type": "text"
      },
      "source": [
        "<a href=\"https://colab.research.google.com/github/Niahk/Niahk/blob/main/AIChatbot.ipynb\" target=\"_parent\"><img src=\"https://colab.research.google.com/assets/colab-badge.svg\" alt=\"Open In Colab\"/></a>"
      ]
    },
    {
      "cell_type": "code",
      "execution_count": null,
      "metadata": {
        "id": "eOmTpqFzHcM3"
      },
      "outputs": [],
      "source": []
    },
    {
      "cell_type": "code",
      "source": [
        "pip install nltk"
      ],
      "metadata": {
        "id": "LFK4jhCirfSk"
      },
      "execution_count": null,
      "outputs": []
    },
    {
      "cell_type": "code",
      "source": [
        "pip install newspaper3k"
      ],
      "metadata": {
        "id": "bVUA2awjrr-Z"
      },
      "execution_count": null,
      "outputs": []
    },
    {
      "cell_type": "code",
      "source": [
        "#import libraries\n",
        "from newspaper import Article\n",
        "import random\n",
        "import string\n",
        "from sklearn.feature_extraction.text import CountVectorizer\n",
        "from sklearn.metrics.pairwise import cosine_similarity\n",
        "import numpy as np\n",
        "import warnings\n",
        "warnings.filterwarnings('ignore')"
      ],
      "metadata": {
        "id": "F5ewi633r2cJ"
      },
      "execution_count": 3,
      "outputs": []
    },
    {
      "cell_type": "code",
      "source": [
        "import nltk"
      ],
      "metadata": {
        "id": "lEih8Nr1siS8"
      },
      "execution_count": 5,
      "outputs": []
    },
    {
      "cell_type": "code",
      "source": [
        "#creating cell for download the punkt package\n",
        "nltk.download('punkt',quiet=True)"
      ],
      "metadata": {
        "colab": {
          "base_uri": "https://localhost:8080/"
        },
        "id": "NPuBzQP0ybkf",
        "outputId": "7e2bfce8-6bf1-43f2-e440-66b1df96020b"
      },
      "execution_count": 6,
      "outputs": [
        {
          "output_type": "execute_result",
          "data": {
            "text/plain": [
              "True"
            ]
          },
          "metadata": {},
          "execution_count": 6
        }
      ]
    },
    {
      "cell_type": "code",
      "source": [
        "#get the article\n",
        "article = Article('https://www.medicalnewstoday.com/articles/emotional-distress')\n",
        "article.download()\n",
        "article.parse()\n",
        "article.nlp()\n",
        "corpus = article.text"
      ],
      "metadata": {
        "id": "xvGeOFtnydrf"
      },
      "execution_count": 7,
      "outputs": []
    },
    {
      "cell_type": "code",
      "source": [
        "#print the article text\n",
        "print(corpus)"
      ],
      "metadata": {
        "id": "YKBU81ffzowm"
      },
      "execution_count": null,
      "outputs": []
    },
    {
      "cell_type": "code",
      "source": [
        "#Tokenization\n",
        "text = corpus\n",
        "sentence_list = nltk.sent_tokenize(text)"
      ],
      "metadata": {
        "id": "tIEfzQp-zyIX"
      },
      "execution_count": 9,
      "outputs": []
    },
    {
      "cell_type": "code",
      "source": [
        "#print the list of sentence\n",
        "print(sentence_list)"
      ],
      "metadata": {
        "id": "7lqPWOXlz97D"
      },
      "execution_count": null,
      "outputs": []
    },
    {
      "cell_type": "code",
      "source": [
        "#A function to return a random greeting respnse to users greeting\n",
        "def greeting_response(text):\n",
        "  text = text.lower()\n",
        "\n",
        "  #Bots greeting response\n",
        "  bot_greetings = ['hey','hi','hello','hola']\n",
        "\n",
        "  #users greeting\n",
        "  user_greeting = ['hi','hey','hola''greetings','wassup']\n",
        "\n",
        "  for word in text.split():\n",
        "    if word in user_greeting:\n",
        "      return random.choice(bot_greetings)"
      ],
      "metadata": {
        "id": "YihlRpU00F3b"
      },
      "execution_count": 22,
      "outputs": []
    },
    {
      "cell_type": "code",
      "source": [
        "def index_sort(list_var):\n",
        "  length = len(list_var)\n",
        "  list_index = list(range(0, length))\n",
        "\n",
        "  x= list_var\n",
        "  for i in range(length):\n",
        "    for j in range(length):\n",
        "      if x[list_index[i]] > x[list_index[j]]:\n",
        "        #swap\n",
        "        temp = list_index[i]\n",
        "        list_index[i] = list_index[j]\n",
        "        list_index[j] = temp\n",
        "\n",
        "  return list_index"
      ],
      "metadata": {
        "id": "SupEKZUt1cML"
      },
      "execution_count": 12,
      "outputs": []
    },
    {
      "cell_type": "code",
      "source": [
        "#create bots response\n",
        "def bot_response(user_input):\n",
        "  user_input = user_input.lower()\n",
        "  sentence_list.append(user_input)\n",
        "  bot_response = ''\n",
        "  cm = CountVectorizer().fit_transform(sentence_list)\n",
        "  similarity_scores = cosine_similarity(cm[-1], cm)\n",
        "  similarity_scores_list = similarity_scores.flatten()\n",
        "  index = index_sort (similarity_scores_list)\n",
        "  index = index[1:]\n",
        "  response_flag = 0\n",
        "\n",
        "  j = 0\n",
        "  for i in range(len(index)):\n",
        "    if similarity_scores_list[index[i]] > 0.0:\n",
        "      bot_response = bot_response+ ' '+sentence_list[index[i]]\n",
        "      response_flag = 1\n",
        "      j = j+1\n",
        "    if j>2:\n",
        "      break\n",
        "\n",
        "  if response_flag == 0:\n",
        "    bot_response = bot_response+ ' '+\"I apologies,I don't understand\"\n",
        "  sentence_list.remove(user_input)\n",
        "  return bot_response"
      ],
      "metadata": {
        "id": "uE1iEY9G0xhO"
      },
      "execution_count": 26,
      "outputs": []
    },
    {
      "cell_type": "code",
      "source": [
        "#start the chat\n",
        "print('DOC Bot: I am consultant doctor bot or a doc bot for short.I will answer your queries about mental distress.If you want to exit,type bye')\n",
        "\n",
        "exit_list = ['exit','see you later','bye','quit','break']\n",
        "while(True):\n",
        "  user_input = input()\n",
        "  if user_input.lower() in exit_list:\n",
        "    print('doc bot:chat with you later!')\n",
        "    break\n",
        "  else:\n",
        "    if greeting_response(user_input) != None:\n",
        "      print('doc bot: '+ greeting_response(user_input))\n",
        "    else:\n",
        "         print('doc bot:'+bot_response(user_input))"
      ],
      "metadata": {
        "colab": {
          "base_uri": "https://localhost:8080/"
        },
        "id": "dTjjLgn74JNk",
        "outputId": "b8719859-0fd6-4ff6-d2bf-2cb9aef77a10"
      },
      "execution_count": 27,
      "outputs": [
        {
          "output_type": "stream",
          "name": "stdout",
          "text": [
            "DOC Bot: I am consultant doctor bot or a doc bot for short.I will answer your queries about mental distress.If you want to exit,type bye\n",
            "hii\n",
            "doc bot: I apologies,I don't understand\n",
            "what is mental distress\n",
            "doc bot: what is mental distress Here, learn what emotional distress is, what can cause it, and what to do next. If emotional distress is unmanageable or not improving, it is advisable to contact a doctor or mental health professional.\n",
            "mental distress\n",
            "doc bot: what is mental distress? The symptoms of emotional distress are sometimes severe and may develop into a mental health disorder. Emotional distress is a state of mental anguish that can take a wide variety of forms.\n",
            "symptoms\n",
            "doc bot: The term encompasses a wide range of symptoms, but its hallmarks are the symptoms of depression and anxiety. The symptoms of emotional distress are sometimes severe and may develop into a mental health disorder. Mental health disorders can cause symptoms of emotional distress that persist for long periods or occur in cycles.\n",
            "xys\n",
            "doc bot: I apologies,I don't understand\n",
            "exit\n",
            "doc bot:chat with you later!\n"
          ]
        }
      ]
    }
  ]
}